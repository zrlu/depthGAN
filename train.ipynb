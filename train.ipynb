{
 "cells": [
  {
   "cell_type": "code",
   "execution_count": 1,
   "metadata": {},
   "outputs": [],
   "source": [
    "import os\n",
    "import torch\n",
    "import numpy as np\n",
    "import matplotlib.pyplot as plt\n",
    "from model import Model\n",
    "from IPython import display\n",
    "import cv2\n",
    "\n",
    "%matplotlib inline\n",
    "%reload_ext autoreload\n",
    "%autoreload 2\n",
    "\n",
    "import matplotlib as mpl\n",
    "mpl.rcParams['figure.figsize'] = (15, 5)\n"
   ]
  },
  {
   "cell_type": "code",
   "execution_count": 2,
   "metadata": {},
   "outputs": [
    {
     "output_type": "execute_result",
     "data": {
      "text/plain": "True"
     },
     "metadata": {},
     "execution_count": 2
    }
   ],
   "source": [
    "torch.cuda.is_available()"
   ]
  },
  {
   "cell_type": "code",
   "execution_count": 3,
   "metadata": {},
   "outputs": [],
   "source": [
    "torch.cuda.empty_cache()"
   ]
  },
  {
   "cell_type": "code",
   "execution_count": 4,
   "metadata": {
    "tags": []
   },
   "outputs": [
    {
     "output_type": "error",
     "ename": "FileNotFoundError",
     "evalue": "[WinError 3] 系统找不到指定的路径。: '../torch_depth_cycleGAN/data_scene_flow/testing\\\\image_2/'",
     "traceback": [
      "\u001b[1;31m---------------------------------------------------------------------------\u001b[0m",
      "\u001b[1;31mFileNotFoundError\u001b[0m                         Traceback (most recent call last)",
      "\u001b[1;32m<ipython-input-4-5264fc837e8d>\u001b[0m in \u001b[0;36m<module>\u001b[1;34m\u001b[0m\n\u001b[1;32m----> 1\u001b[1;33m model = Model(\n\u001b[0m\u001b[0;32m      2\u001b[0m     \u001b[0muse_multiple_gpu\u001b[0m\u001b[1;33m=\u001b[0m\u001b[1;32mTrue\u001b[0m\u001b[1;33m,\u001b[0m\u001b[1;33m\u001b[0m\u001b[1;33m\u001b[0m\u001b[0m\n\u001b[0;32m      3\u001b[0m     \u001b[0mbatch_size\u001b[0m\u001b[1;33m=\u001b[0m\u001b[1;36m16\u001b[0m\u001b[1;33m,\u001b[0m\u001b[1;33m\u001b[0m\u001b[1;33m\u001b[0m\u001b[0m\n\u001b[0;32m      4\u001b[0m     \u001b[0mval_dataset_dir\u001b[0m\u001b[1;33m=\u001b[0m\u001b[1;34m'../torch_depth_cycleGAN/data_scene_flow/testing'\u001b[0m\u001b[1;33m,\u001b[0m\u001b[1;33m\u001b[0m\u001b[1;33m\u001b[0m\u001b[0m\n\u001b[0;32m      5\u001b[0m     \u001b[0mtrain_dataset_dir\u001b[0m\u001b[1;33m=\u001b[0m\u001b[1;34m'../torch_depth_cycleGAN/data_scene_flow/training'\u001b[0m\u001b[1;33m,\u001b[0m\u001b[1;33m\u001b[0m\u001b[1;33m\u001b[0m\u001b[0m\n",
      "\u001b[1;32md:\\depthGAN\\model.py\u001b[0m in \u001b[0;36m__init__\u001b[1;34m(self, batch_size, input_channels, use_multiple_gpu, learning_rate, model_path, device, mode, train_dataset_dir, val_dataset_dir, num_workers, do_augmentation, output_directory, input_height, input_width, augment_parameters)\u001b[0m\n\u001b[0;32m     56\u001b[0m                 \u001b[0mlr\u001b[0m\u001b[1;33m=\u001b[0m\u001b[0mself\u001b[0m\u001b[1;33m.\u001b[0m\u001b[0mlearning_rate\u001b[0m\u001b[1;33m\u001b[0m\u001b[1;33m\u001b[0m\u001b[0m\n\u001b[0;32m     57\u001b[0m             )\n\u001b[1;32m---> 58\u001b[1;33m             self.val_n_img, self.val_loader = prepare_dataloader(self.val_dataset_dir, self.mode, self.augment_parameters,\n\u001b[0m\u001b[0;32m     59\u001b[0m                                                 \u001b[1;32mFalse\u001b[0m\u001b[1;33m,\u001b[0m \u001b[0mself\u001b[0m\u001b[1;33m.\u001b[0m\u001b[0mbatch_size\u001b[0m\u001b[1;33m,\u001b[0m\u001b[1;33m\u001b[0m\u001b[1;33m\u001b[0m\u001b[0m\n\u001b[0;32m     60\u001b[0m                                                 \u001b[1;33m(\u001b[0m\u001b[0mself\u001b[0m\u001b[1;33m.\u001b[0m\u001b[0minput_height\u001b[0m\u001b[1;33m,\u001b[0m \u001b[0mself\u001b[0m\u001b[1;33m.\u001b[0m\u001b[0minput_width\u001b[0m\u001b[1;33m)\u001b[0m\u001b[1;33m,\u001b[0m\u001b[1;33m\u001b[0m\u001b[1;33m\u001b[0m\u001b[0m\n",
      "\u001b[1;32md:\\depthGAN\\dataset.py\u001b[0m in \u001b[0;36mprepare_dataloader\u001b[1;34m(data_directory, mode, augment_parameters, do_augmentation, batch_size, size, num_workers, shuffle)\u001b[0m\n\u001b[0;32m     46\u001b[0m         \u001b[0mdo_augmentation\u001b[0m\u001b[1;33m=\u001b[0m\u001b[0mdo_augmentation\u001b[0m\u001b[1;33m,\u001b[0m\u001b[1;33m\u001b[0m\u001b[1;33m\u001b[0m\u001b[0m\n\u001b[0;32m     47\u001b[0m         size = size)\n\u001b[1;32m---> 48\u001b[1;33m     \u001b[0mdataset\u001b[0m \u001b[1;33m=\u001b[0m \u001b[0mKITTI\u001b[0m\u001b[1;33m(\u001b[0m\u001b[0mdata_directory\u001b[0m\u001b[1;33m,\u001b[0m \u001b[0mmode\u001b[0m\u001b[1;33m,\u001b[0m \u001b[0mtransform\u001b[0m\u001b[1;33m=\u001b[0m\u001b[0mdata_transform\u001b[0m\u001b[1;33m)\u001b[0m\u001b[1;33m\u001b[0m\u001b[1;33m\u001b[0m\u001b[0m\n\u001b[0m\u001b[0;32m     49\u001b[0m     \u001b[0mn_img\u001b[0m \u001b[1;33m=\u001b[0m \u001b[0mlen\u001b[0m\u001b[1;33m(\u001b[0m\u001b[0mdataset\u001b[0m\u001b[1;33m)\u001b[0m\u001b[1;33m\u001b[0m\u001b[1;33m\u001b[0m\u001b[0m\n\u001b[0;32m     50\u001b[0m     \u001b[0mprint\u001b[0m\u001b[1;33m(\u001b[0m\u001b[1;34m'Use a dataset with'\u001b[0m\u001b[1;33m,\u001b[0m \u001b[0mn_img\u001b[0m\u001b[1;33m,\u001b[0m \u001b[1;34m'images (mode={})'\u001b[0m\u001b[1;33m.\u001b[0m\u001b[0mformat\u001b[0m\u001b[1;33m(\u001b[0m\u001b[0mmode\u001b[0m\u001b[1;33m)\u001b[0m\u001b[1;33m)\u001b[0m\u001b[1;33m\u001b[0m\u001b[1;33m\u001b[0m\u001b[0m\n",
      "\u001b[1;32md:\\depthGAN\\dataset.py\u001b[0m in \u001b[0;36m__init__\u001b[1;34m(self, root_dir, mode, transform)\u001b[0m\n\u001b[0;32m     10\u001b[0m         \u001b[0mleft_dir\u001b[0m \u001b[1;33m=\u001b[0m \u001b[0mos\u001b[0m\u001b[1;33m.\u001b[0m\u001b[0mpath\u001b[0m\u001b[1;33m.\u001b[0m\u001b[0mjoin\u001b[0m\u001b[1;33m(\u001b[0m\u001b[0mroot_dir\u001b[0m\u001b[1;33m,\u001b[0m \u001b[1;34m'image_2/'\u001b[0m\u001b[1;33m)\u001b[0m\u001b[1;33m\u001b[0m\u001b[1;33m\u001b[0m\u001b[0m\n\u001b[0;32m     11\u001b[0m         self.left_paths = sorted([os.path.join(left_dir, fname) for fname\\\n\u001b[1;32m---> 12\u001b[1;33m                            in os.listdir(left_dir)])\n\u001b[0m\u001b[0;32m     13\u001b[0m         \u001b[1;32mif\u001b[0m \u001b[0mmode\u001b[0m \u001b[1;33m==\u001b[0m \u001b[1;34m'train'\u001b[0m\u001b[1;33m:\u001b[0m\u001b[1;33m\u001b[0m\u001b[1;33m\u001b[0m\u001b[0m\n\u001b[0;32m     14\u001b[0m             \u001b[0mright_dir\u001b[0m \u001b[1;33m=\u001b[0m \u001b[0mos\u001b[0m\u001b[1;33m.\u001b[0m\u001b[0mpath\u001b[0m\u001b[1;33m.\u001b[0m\u001b[0mjoin\u001b[0m\u001b[1;33m(\u001b[0m\u001b[0mroot_dir\u001b[0m\u001b[1;33m,\u001b[0m \u001b[1;34m'image_3/'\u001b[0m\u001b[1;33m)\u001b[0m\u001b[1;33m\u001b[0m\u001b[1;33m\u001b[0m\u001b[0m\n",
      "\u001b[1;31mFileNotFoundError\u001b[0m: [WinError 3] 系统找不到指定的路径。: '../torch_depth_cycleGAN/data_scene_flow/testing\\\\image_2/'"
     ]
    }
   ],
   "source": [
    "\n",
    "model = Model(\n",
    "    use_multiple_gpu=True,\n",
    "    batch_size=16,\n",
    "    val_dataset_dir='data_scene_flow/testing',\n",
    "    train_dataset_dir='data_scene_flow/training',\n",
    "    input_height=64,\n",
    "    input_width=128\n",
    ")\n",
    "\n",
    "model.load(True)\n",
    "\n",
    "fig, ax = plt.subplots(ncols=2, nrows=2)\n",
    "epochs = 50\n",
    "\n",
    "for epoch in range(epochs):\n",
    "    model.train(epoch)\n",
    "    fig.suptitle('Epoch {}'.format(epoch))\n",
    "    dr, ref_img0, ref_img1, ir = model.test()\n",
    "    resized_i0 = cv2.resize(np.moveaxis(ref_img0, 0, -1), (1242, 375), interpolation=cv2.INTER_LINEAR)\n",
    "    resized_dr = cv2.resize(np.abs(dr[0]), (1242, 375), interpolation=cv2.INTER_LINEAR)\n",
    "    resized_i1 = cv2.resize(np.moveaxis(ref_img1, 0, -1), (1242, 375), interpolation=cv2.INTER_LINEAR)\n",
    "    resized_ir = cv2.resize(np.moveaxis(ir[0], 0, -1), (1242, 375), interpolation=cv2.INTER_LINEAR)\n",
    "    ax[0][0].imshow(resized_i0)\n",
    "    ax[0][1].imshow(resized_dr, cmap='plasma') \n",
    "    ax[1][0].imshow(resized_i1)\n",
    "    ax[1][1].imshow(resized_ir)\n",
    "    \n",
    "    display.display(plt.gcf())"
   ]
  }
 ],
 "metadata": {
  "kernelspec": {
   "display_name": "Python 3.8.3 64-bit",
   "language": "python",
   "name": "python_defaultSpec_1597290037229"
  },
  "language_info": {
   "codemirror_mode": {
    "name": "ipython",
    "version": 3
   },
   "file_extension": ".py",
   "mimetype": "text/x-python",
   "name": "python",
   "nbconvert_exporter": "python",
   "pygments_lexer": "ipython3",
   "version": "3.8.3-final"
  }
 },
 "nbformat": 4,
 "nbformat_minor": 4
}